{
 "cells": [
  {
   "cell_type": "markdown",
   "id": "db954b0b-d099-4099-af8e-846966558675",
   "metadata": {
    "tags": []
   },
   "source": [
    "# Visualizing Datasets Using Heatmaps"
   ]
  },
  {
   "cell_type": "markdown",
   "id": "026621a2-5a91-4caa-ae53-573d3816d683",
   "metadata": {
    "jp-MarkdownHeadingCollapsed": true,
    "tags": []
   },
   "source": [
    "## Setup and Data Cleaning\n",
    "\n",
    "You can expand this group to see how the dataframe gets set up."
   ]
  },
  {
   "cell_type": "code",
   "execution_count": 115,
   "id": "2d0f0c5c-d30b-4210-9971-0a3d6b7db374",
   "metadata": {
    "tags": []
   },
   "outputs": [],
   "source": [
    "import pandas as pd\n",
    "import numpy as np\n",
    "import seaborn as sns\n",
    "import matplotlib.pyplot as plt"
   ]
  },
  {
   "cell_type": "code",
   "execution_count": 157,
   "id": "f73e17e7-dabc-4c38-becb-dd416c5438ed",
   "metadata": {
    "tags": []
   },
   "outputs": [
    {
     "data": {
      "text/html": [
       "<div>\n",
       "<style scoped>\n",
       "    .dataframe tbody tr th:only-of-type {\n",
       "        vertical-align: middle;\n",
       "    }\n",
       "\n",
       "    .dataframe tbody tr th {\n",
       "        vertical-align: top;\n",
       "    }\n",
       "\n",
       "    .dataframe thead th {\n",
       "        text-align: right;\n",
       "    }\n",
       "</style>\n",
       "<table border=\"1\" class=\"dataframe\">\n",
       "  <thead>\n",
       "    <tr style=\"text-align: right;\">\n",
       "      <th></th>\n",
       "      <th></th>\n",
       "      <th>Form</th>\n",
       "      <th>Type1</th>\n",
       "      <th>Type2</th>\n",
       "      <th>Total</th>\n",
       "      <th>HP</th>\n",
       "      <th>Attack</th>\n",
       "      <th>Defense</th>\n",
       "      <th>Sp. Atk</th>\n",
       "      <th>Sp. Def</th>\n",
       "      <th>Speed</th>\n",
       "      <th>Generation</th>\n",
       "    </tr>\n",
       "    <tr>\n",
       "      <th>ID</th>\n",
       "      <th>Name</th>\n",
       "      <th></th>\n",
       "      <th></th>\n",
       "      <th></th>\n",
       "      <th></th>\n",
       "      <th></th>\n",
       "      <th></th>\n",
       "      <th></th>\n",
       "      <th></th>\n",
       "      <th></th>\n",
       "      <th></th>\n",
       "      <th></th>\n",
       "    </tr>\n",
       "  </thead>\n",
       "  <tbody>\n",
       "    <tr>\n",
       "      <th>1</th>\n",
       "      <th>Bulbasaur</th>\n",
       "      <td></td>\n",
       "      <td>Grass</td>\n",
       "      <td>Poison</td>\n",
       "      <td>318</td>\n",
       "      <td>45</td>\n",
       "      <td>49</td>\n",
       "      <td>49</td>\n",
       "      <td>65</td>\n",
       "      <td>65</td>\n",
       "      <td>45</td>\n",
       "      <td>1</td>\n",
       "    </tr>\n",
       "    <tr>\n",
       "      <th>2</th>\n",
       "      <th>Ivysaur</th>\n",
       "      <td></td>\n",
       "      <td>Grass</td>\n",
       "      <td>Poison</td>\n",
       "      <td>405</td>\n",
       "      <td>60</td>\n",
       "      <td>62</td>\n",
       "      <td>63</td>\n",
       "      <td>80</td>\n",
       "      <td>80</td>\n",
       "      <td>60</td>\n",
       "      <td>1</td>\n",
       "    </tr>\n",
       "    <tr>\n",
       "      <th>3</th>\n",
       "      <th>Venusaur</th>\n",
       "      <td></td>\n",
       "      <td>Grass</td>\n",
       "      <td>Poison</td>\n",
       "      <td>525</td>\n",
       "      <td>80</td>\n",
       "      <td>82</td>\n",
       "      <td>83</td>\n",
       "      <td>100</td>\n",
       "      <td>100</td>\n",
       "      <td>80</td>\n",
       "      <td>1</td>\n",
       "    </tr>\n",
       "    <tr>\n",
       "      <th>4</th>\n",
       "      <th>Charmander</th>\n",
       "      <td></td>\n",
       "      <td>Fire</td>\n",
       "      <td></td>\n",
       "      <td>309</td>\n",
       "      <td>39</td>\n",
       "      <td>52</td>\n",
       "      <td>43</td>\n",
       "      <td>60</td>\n",
       "      <td>50</td>\n",
       "      <td>65</td>\n",
       "      <td>1</td>\n",
       "    </tr>\n",
       "    <tr>\n",
       "      <th>5</th>\n",
       "      <th>Charmeleon</th>\n",
       "      <td></td>\n",
       "      <td>Fire</td>\n",
       "      <td></td>\n",
       "      <td>405</td>\n",
       "      <td>58</td>\n",
       "      <td>64</td>\n",
       "      <td>58</td>\n",
       "      <td>80</td>\n",
       "      <td>65</td>\n",
       "      <td>80</td>\n",
       "      <td>1</td>\n",
       "    </tr>\n",
       "  </tbody>\n",
       "</table>\n",
       "</div>"
      ],
      "text/plain": [
       "              Form  Type1   Type2  Total  HP  Attack  Defense  Sp. Atk   \n",
       "ID Name                                                                  \n",
       "1  Bulbasaur        Grass  Poison    318  45      49       49       65  \\\n",
       "2  Ivysaur          Grass  Poison    405  60      62       63       80   \n",
       "3  Venusaur         Grass  Poison    525  80      82       83      100   \n",
       "4  Charmander        Fire            309  39      52       43       60   \n",
       "5  Charmeleon        Fire            405  58      64       58       80   \n",
       "\n",
       "               Sp. Def  Speed  Generation  \n",
       "ID Name                                    \n",
       "1  Bulbasaur        65     45           1  \n",
       "2  Ivysaur          80     60           1  \n",
       "3  Venusaur        100     80           1  \n",
       "4  Charmander       50     65           1  \n",
       "5  Charmeleon       65     80           1  "
      ]
     },
     "execution_count": 157,
     "metadata": {},
     "output_type": "execute_result"
    }
   ],
   "source": [
    "pokedex = pd.read_csv('https://raw.githubusercontent.com/lgreski/pokemonData/master/Pokemon.csv', index_col=[0, 1])\n",
    "pokedex.head()"
   ]
  },
  {
   "cell_type": "code",
   "execution_count": 159,
   "id": "78ed793d-b2f9-400b-8d60-b4d4212b3e5d",
   "metadata": {
    "tags": []
   },
   "outputs": [
    {
     "data": {
      "text/html": [
       "<div>\n",
       "<style scoped>\n",
       "    .dataframe tbody tr th:only-of-type {\n",
       "        vertical-align: middle;\n",
       "    }\n",
       "\n",
       "    .dataframe tbody tr th {\n",
       "        vertical-align: top;\n",
       "    }\n",
       "\n",
       "    .dataframe thead th {\n",
       "        text-align: right;\n",
       "    }\n",
       "</style>\n",
       "<table border=\"1\" class=\"dataframe\">\n",
       "  <thead>\n",
       "    <tr style=\"text-align: right;\">\n",
       "      <th></th>\n",
       "      <th></th>\n",
       "      <th>Form</th>\n",
       "      <th>Type 1</th>\n",
       "      <th>Type 2</th>\n",
       "      <th>Total</th>\n",
       "      <th>HP</th>\n",
       "      <th>Attack</th>\n",
       "      <th>Defense</th>\n",
       "      <th>Sp. Atk</th>\n",
       "      <th>Sp. Def</th>\n",
       "      <th>Speed</th>\n",
       "      <th>Generation</th>\n",
       "    </tr>\n",
       "    <tr>\n",
       "      <th>ID</th>\n",
       "      <th>Name</th>\n",
       "      <th></th>\n",
       "      <th></th>\n",
       "      <th></th>\n",
       "      <th></th>\n",
       "      <th></th>\n",
       "      <th></th>\n",
       "      <th></th>\n",
       "      <th></th>\n",
       "      <th></th>\n",
       "      <th></th>\n",
       "      <th></th>\n",
       "    </tr>\n",
       "  </thead>\n",
       "  <tbody>\n",
       "    <tr>\n",
       "      <th>1</th>\n",
       "      <th>Bulbasaur</th>\n",
       "      <td></td>\n",
       "      <td>Grass</td>\n",
       "      <td>Poison</td>\n",
       "      <td>318</td>\n",
       "      <td>45</td>\n",
       "      <td>49</td>\n",
       "      <td>49</td>\n",
       "      <td>65</td>\n",
       "      <td>65</td>\n",
       "      <td>45</td>\n",
       "      <td>1</td>\n",
       "    </tr>\n",
       "    <tr>\n",
       "      <th>2</th>\n",
       "      <th>Ivysaur</th>\n",
       "      <td></td>\n",
       "      <td>Grass</td>\n",
       "      <td>Poison</td>\n",
       "      <td>405</td>\n",
       "      <td>60</td>\n",
       "      <td>62</td>\n",
       "      <td>63</td>\n",
       "      <td>80</td>\n",
       "      <td>80</td>\n",
       "      <td>60</td>\n",
       "      <td>1</td>\n",
       "    </tr>\n",
       "    <tr>\n",
       "      <th>3</th>\n",
       "      <th>Venusaur</th>\n",
       "      <td></td>\n",
       "      <td>Grass</td>\n",
       "      <td>Poison</td>\n",
       "      <td>525</td>\n",
       "      <td>80</td>\n",
       "      <td>82</td>\n",
       "      <td>83</td>\n",
       "      <td>100</td>\n",
       "      <td>100</td>\n",
       "      <td>80</td>\n",
       "      <td>1</td>\n",
       "    </tr>\n",
       "    <tr>\n",
       "      <th>4</th>\n",
       "      <th>Charmander</th>\n",
       "      <td></td>\n",
       "      <td>Fire</td>\n",
       "      <td></td>\n",
       "      <td>309</td>\n",
       "      <td>39</td>\n",
       "      <td>52</td>\n",
       "      <td>43</td>\n",
       "      <td>60</td>\n",
       "      <td>50</td>\n",
       "      <td>65</td>\n",
       "      <td>1</td>\n",
       "    </tr>\n",
       "    <tr>\n",
       "      <th>5</th>\n",
       "      <th>Charmeleon</th>\n",
       "      <td></td>\n",
       "      <td>Fire</td>\n",
       "      <td></td>\n",
       "      <td>405</td>\n",
       "      <td>58</td>\n",
       "      <td>64</td>\n",
       "      <td>58</td>\n",
       "      <td>80</td>\n",
       "      <td>65</td>\n",
       "      <td>80</td>\n",
       "      <td>1</td>\n",
       "    </tr>\n",
       "  </tbody>\n",
       "</table>\n",
       "</div>"
      ],
      "text/plain": [
       "              Form Type 1  Type 2  Total  HP  Attack  Defense  Sp. Atk   \n",
       "ID Name                                                                  \n",
       "1  Bulbasaur        Grass  Poison    318  45      49       49       65  \\\n",
       "2  Ivysaur          Grass  Poison    405  60      62       63       80   \n",
       "3  Venusaur         Grass  Poison    525  80      82       83      100   \n",
       "4  Charmander        Fire            309  39      52       43       60   \n",
       "5  Charmeleon        Fire            405  58      64       58       80   \n",
       "\n",
       "               Sp. Def  Speed  Generation  \n",
       "ID Name                                    \n",
       "1  Bulbasaur        65     45           1  \n",
       "2  Ivysaur          80     60           1  \n",
       "3  Venusaur        100     80           1  \n",
       "4  Charmander       50     65           1  \n",
       "5  Charmeleon       65     80           1  "
      ]
     },
     "execution_count": 159,
     "metadata": {},
     "output_type": "execute_result"
    }
   ],
   "source": [
    "# Rename Type1 and Type2 to Type 1 and Type 2\n",
    "pokedex.rename(columns={'Type1': 'Type 1', 'Type2': 'Type 2'}, inplace=True)\n",
    "pokedex.head()"
   ]
  },
  {
   "cell_type": "code",
   "execution_count": 161,
   "id": "8eb890b0-d65c-497e-97fe-b842083ec2f3",
   "metadata": {
    "tags": []
   },
   "outputs": [
    {
     "data": {
      "text/html": [
       "<div>\n",
       "<style scoped>\n",
       "    .dataframe tbody tr th:only-of-type {\n",
       "        vertical-align: middle;\n",
       "    }\n",
       "\n",
       "    .dataframe tbody tr th {\n",
       "        vertical-align: top;\n",
       "    }\n",
       "\n",
       "    .dataframe thead th {\n",
       "        text-align: right;\n",
       "    }\n",
       "</style>\n",
       "<table border=\"1\" class=\"dataframe\">\n",
       "  <thead>\n",
       "    <tr style=\"text-align: right;\">\n",
       "      <th></th>\n",
       "      <th></th>\n",
       "      <th>Form</th>\n",
       "      <th>Type 1</th>\n",
       "      <th>Type 2</th>\n",
       "      <th>Total</th>\n",
       "      <th>HP</th>\n",
       "      <th>Attack</th>\n",
       "      <th>Defense</th>\n",
       "      <th>Sp. Atk</th>\n",
       "      <th>Sp. Def</th>\n",
       "      <th>Speed</th>\n",
       "      <th>Generation</th>\n",
       "    </tr>\n",
       "    <tr>\n",
       "      <th>ID</th>\n",
       "      <th>Name</th>\n",
       "      <th></th>\n",
       "      <th></th>\n",
       "      <th></th>\n",
       "      <th></th>\n",
       "      <th></th>\n",
       "      <th></th>\n",
       "      <th></th>\n",
       "      <th></th>\n",
       "      <th></th>\n",
       "      <th></th>\n",
       "      <th></th>\n",
       "    </tr>\n",
       "  </thead>\n",
       "  <tbody>\n",
       "    <tr>\n",
       "      <th>1</th>\n",
       "      <th>Bulbasaur</th>\n",
       "      <td>NaN</td>\n",
       "      <td>Grass</td>\n",
       "      <td>Poison</td>\n",
       "      <td>318</td>\n",
       "      <td>45</td>\n",
       "      <td>49</td>\n",
       "      <td>49</td>\n",
       "      <td>65</td>\n",
       "      <td>65</td>\n",
       "      <td>45</td>\n",
       "      <td>1</td>\n",
       "    </tr>\n",
       "    <tr>\n",
       "      <th>2</th>\n",
       "      <th>Ivysaur</th>\n",
       "      <td>NaN</td>\n",
       "      <td>Grass</td>\n",
       "      <td>Poison</td>\n",
       "      <td>405</td>\n",
       "      <td>60</td>\n",
       "      <td>62</td>\n",
       "      <td>63</td>\n",
       "      <td>80</td>\n",
       "      <td>80</td>\n",
       "      <td>60</td>\n",
       "      <td>1</td>\n",
       "    </tr>\n",
       "    <tr>\n",
       "      <th>3</th>\n",
       "      <th>Venusaur</th>\n",
       "      <td>NaN</td>\n",
       "      <td>Grass</td>\n",
       "      <td>Poison</td>\n",
       "      <td>525</td>\n",
       "      <td>80</td>\n",
       "      <td>82</td>\n",
       "      <td>83</td>\n",
       "      <td>100</td>\n",
       "      <td>100</td>\n",
       "      <td>80</td>\n",
       "      <td>1</td>\n",
       "    </tr>\n",
       "    <tr>\n",
       "      <th>4</th>\n",
       "      <th>Charmander</th>\n",
       "      <td>NaN</td>\n",
       "      <td>Fire</td>\n",
       "      <td>NaN</td>\n",
       "      <td>309</td>\n",
       "      <td>39</td>\n",
       "      <td>52</td>\n",
       "      <td>43</td>\n",
       "      <td>60</td>\n",
       "      <td>50</td>\n",
       "      <td>65</td>\n",
       "      <td>1</td>\n",
       "    </tr>\n",
       "    <tr>\n",
       "      <th>5</th>\n",
       "      <th>Charmeleon</th>\n",
       "      <td>NaN</td>\n",
       "      <td>Fire</td>\n",
       "      <td>NaN</td>\n",
       "      <td>405</td>\n",
       "      <td>58</td>\n",
       "      <td>64</td>\n",
       "      <td>58</td>\n",
       "      <td>80</td>\n",
       "      <td>65</td>\n",
       "      <td>80</td>\n",
       "      <td>1</td>\n",
       "    </tr>\n",
       "  </tbody>\n",
       "</table>\n",
       "</div>"
      ],
      "text/plain": [
       "              Form Type 1  Type 2  Total  HP  Attack  Defense  Sp. Atk   \n",
       "ID Name                                                                  \n",
       "1  Bulbasaur   NaN  Grass  Poison    318  45      49       49       65  \\\n",
       "2  Ivysaur     NaN  Grass  Poison    405  60      62       63       80   \n",
       "3  Venusaur    NaN  Grass  Poison    525  80      82       83      100   \n",
       "4  Charmander  NaN   Fire     NaN    309  39      52       43       60   \n",
       "5  Charmeleon  NaN   Fire     NaN    405  58      64       58       80   \n",
       "\n",
       "               Sp. Def  Speed  Generation  \n",
       "ID Name                                    \n",
       "1  Bulbasaur        65     45           1  \n",
       "2  Ivysaur          80     60           1  \n",
       "3  Venusaur        100     80           1  \n",
       "4  Charmander       50     65           1  \n",
       "5  Charmeleon       65     80           1  "
      ]
     },
     "execution_count": 161,
     "metadata": {},
     "output_type": "execute_result"
    }
   ],
   "source": [
    "# Use regex to replace blank spaces with NaN\n",
    "pokedex.replace(r'^\\s*$', np.nan, regex=True, inplace=True)\n",
    "pokedex.head()"
   ]
  },
  {
   "cell_type": "markdown",
   "id": "65a5ceb7-546a-42bd-8eeb-2a7c517e3f9f",
   "metadata": {},
   "source": [
    "## Assignment\n",
    "\n",
    "You're given a dataframe, `pokedex` that has been cleaned for you. Use `.head()`, `.info()`, and `.describe()` to get a feel for the data below:"
   ]
  },
  {
   "cell_type": "code",
   "execution_count": null,
   "id": "fde2eea3-fa49-4f22-b8fc-1ee638314b2c",
   "metadata": {},
   "outputs": [],
   "source": []
  },
  {
   "cell_type": "markdown",
   "id": "33d6dfaf-4708-4086-b689-4a65e1d18f9a",
   "metadata": {},
   "source": [
    "How is the *index* of this Dataframe different from previous ones we've worked with? (If you can't tell from the previous cell's output, inspect the code loading the Pokemon data at the beginning of the notebook)"
   ]
  },
  {
   "cell_type": "markdown",
   "id": "43ffb466-64c3-4a05-b1f9-99af795434ad",
   "metadata": {},
   "source": [
    "### Augmenting the Dataframe\n",
    "\n",
    "For each *combat* stat, (HP, Attack, Defense, Sp. Atk, Sp. Def, and Speed), create an appropriately named *categorical* column labeling that statistic by *quintile*; i.e. 'low', 'mid low', 'mid', 'mid high', 'high'."
   ]
  },
  {
   "cell_type": "code",
   "execution_count": 167,
   "id": "c99df3ca-cb8c-47c4-a26f-a7d590ccb24b",
   "metadata": {
    "tags": []
   },
   "outputs": [],
   "source": [
    "# List of columns for combat stat questions\n",
    "combat_cols = ['HP', 'Attack', 'Defense', 'Sp. Atk', 'Sp. Def', 'Speed']"
   ]
  },
  {
   "cell_type": "markdown",
   "id": "296b2575-584f-40cd-8dd0-a8be725a830b",
   "metadata": {},
   "source": [
    "### Pivot Tables:\n",
    "\n",
    "Create a pivot table called `mean_stats_by_gen` that shows the mean value of each *combat stat* broken down by generation. "
   ]
  },
  {
   "cell_type": "code",
   "execution_count": null,
   "id": "b494f66e-34af-4c63-9173-9f0d24dfbcf8",
   "metadata": {},
   "outputs": [],
   "source": []
  },
  {
   "cell_type": "markdown",
   "id": "53691c47-d8c5-4af6-881c-4f7b755e6191",
   "metadata": {},
   "source": [
    "Create a pivot table called `best_stats_by_type` that shows the maximum value of each combat stat broken down by `Type 1`"
   ]
  },
  {
   "cell_type": "code",
   "execution_count": null,
   "id": "d69826fb-c712-494a-9a16-a2fda6571f51",
   "metadata": {},
   "outputs": [],
   "source": []
  },
  {
   "cell_type": "markdown",
   "id": "fbc15d8f-46a3-4d9e-867f-c62155e3af74",
   "metadata": {},
   "source": [
    "Create a pivot table called `type_distribution` that shows the number of Pokemon having each combination of `Type 1` and `Type 2`. All `NaN` values should be replaced with `0`."
   ]
  },
  {
   "cell_type": "code",
   "execution_count": null,
   "id": "cc981d2b-e070-4714-852a-07d37acc99e5",
   "metadata": {},
   "outputs": [],
   "source": []
  },
  {
   "cell_type": "markdown",
   "id": "07f82ee9-905a-4c3b-8249-1dd277a2dc96",
   "metadata": {},
   "source": [
    "Create a pivot table called `hp_speed_distribution` that shows the number of Pokemon having each combination of HP and Speed quintile. *e.g.* 'low' HP and 'low' Speed"
   ]
  },
  {
   "cell_type": "code",
   "execution_count": null,
   "id": "da5ee377-6549-4e07-8af9-7e350f7bec06",
   "metadata": {},
   "outputs": [],
   "source": []
  },
  {
   "cell_type": "markdown",
   "id": "521f05c7-9799-4639-8211-60b925c83708",
   "metadata": {
    "tags": []
   },
   "source": [
    "### Heatmaps:\n",
    "\n",
    "Use the pivot tables you created in the previous section to generate heatmaps. Make sure each heatmap has annotations turned on and has axes that are ordered appropriately!\n",
    "\n",
    "Generate a heatmap showing the number of Pokemon with each type combination. "
   ]
  },
  {
   "cell_type": "code",
   "execution_count": null,
   "id": "1546e5c0-64a7-48be-a83e-1edfcd2aedd4",
   "metadata": {},
   "outputs": [],
   "source": []
  },
  {
   "cell_type": "markdown",
   "id": "6ccd1285-3a58-488f-af4a-587993f7cb3d",
   "metadata": {
    "tags": []
   },
   "source": [
    "Generate a heatmap showing the distribution of HP vs Speed quintiles."
   ]
  },
  {
   "cell_type": "code",
   "execution_count": null,
   "id": "0134a3b9-e8ba-49f9-aee1-527b96223c5c",
   "metadata": {},
   "outputs": [],
   "source": []
  },
  {
   "cell_type": "markdown",
   "id": "85720e54-7edc-4727-ad02-1b6424a658f0",
   "metadata": {},
   "source": [
    "### Correlation Matrix\n",
    "\n",
    "Create a correlation matrix for the combat stats in the dataframe."
   ]
  },
  {
   "cell_type": "code",
   "execution_count": null,
   "id": "6758b33e-dce9-4733-a9f4-ad44b5b283d2",
   "metadata": {},
   "outputs": [],
   "source": []
  },
  {
   "cell_type": "markdown",
   "id": "4162908f-6dd7-42f6-9c5d-1bc850ac3926",
   "metadata": {},
   "source": [
    "Which stats are most strongly correlated?"
   ]
  },
  {
   "cell_type": "code",
   "execution_count": null,
   "id": "970b4a87-aebe-4b6e-a9bc-7f7062342f00",
   "metadata": {},
   "outputs": [],
   "source": []
  }
 ],
 "metadata": {
  "kernelspec": {
   "display_name": "Python 3 (ipykernel)",
   "language": "python",
   "name": "python3"
  },
  "language_info": {
   "codemirror_mode": {
    "name": "ipython",
    "version": 3
   },
   "file_extension": ".py",
   "mimetype": "text/x-python",
   "name": "python",
   "nbconvert_exporter": "python",
   "pygments_lexer": "ipython3",
   "version": "3.10.3"
  }
 },
 "nbformat": 4,
 "nbformat_minor": 5
}
